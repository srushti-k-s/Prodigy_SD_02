{
 "cells": [
  {
   "cell_type": "code",
   "execution_count": 2,
   "id": "de28e216",
   "metadata": {},
   "outputs": [
    {
     "name": "stdout",
     "output_type": "stream",
     "text": [
      "Welcome to the Number Guessing Game!\n",
      "Guess a number between 1 and 1000: 500\n",
      "Too low. Try again!\n",
      "Guess a number between 1 and 1000: 600\n",
      "Too low. Try again!\n",
      "Guess a number between 1 and 1000: 900\n",
      "Too high. Try again!\n",
      "Guess a number between 1 and 1000: 800\n",
      "Too low. Try again!\n",
      "Guess a number between 1 and 1000: 900\n",
      "Too high. Try again!\n",
      "Guess a number between 1 and 1000: 850\n",
      "Too low. Try again!\n",
      "Guess a number between 1 and 1000: 870\n",
      "Too low. Try again!\n",
      "Guess a number between 1 and 1000: 880\n",
      "Too low. Try again!\n",
      "Guess a number between 1 and 1000: 890\n",
      "Too low. Try again!\n",
      "Guess a number between 1 and 1000: 891\n",
      "Congratulations! You guessed the secret number 891 in 10 attempts.\n"
     ]
    }
   ],
   "source": [
    "# main.py\n",
    "import random\n",
    "\n",
    "# define range and max_attempts\n",
    "lower_bound = 1\n",
    "upper_bound = 1000\n",
    "max_attempts = 10\n",
    "\n",
    "# generate the secret number\n",
    "secret_number = random.randint(lower_bound, upper_bound)\n",
    "\n",
    "# Get the user's guess\n",
    "def get_guess():\n",
    "    while True:\n",
    "        try:\n",
    "            guess = int(input(f\"Guess a number between {lower_bound} and {upper_bound}: \"))\n",
    "            if lower_bound <= guess <= upper_bound:\n",
    "                return guess\n",
    "            else:\n",
    "                print(\"Invalid input. Please enter a number within the specified range.\")\n",
    "        except ValueError:\n",
    "            print(\"Invalid input. Please enter a valid number.\")\n",
    "\n",
    "# Validate guess\n",
    "def check_guess(guess, secret_number):\n",
    "    if guess == secret_number:\n",
    "        return \"Correct\"\n",
    "    elif guess < secret_number:\n",
    "        return \"Too low\"\n",
    "    else:\n",
    "        return \"Too high\"\n",
    "\n",
    "# track the number of attempts, detect if the game is over\n",
    "def play_game():\n",
    "    attempts = 0\n",
    "    won = False\n",
    "\n",
    "    while attempts < max_attempts:\n",
    "        attempts += 1\n",
    "        guess = get_guess()\n",
    "        result = check_guess(guess, secret_number)\n",
    "\n",
    "        if result == \"Correct\":\n",
    "            print(f\"Congratulations! You guessed the secret number {secret_number} in {attempts} attempts.\")\n",
    "            won = True\n",
    "            break\n",
    "        else:\n",
    "            print(f\"{result}. Try again!\")\n",
    "\n",
    "    if not won:\n",
    "        print(f\"Sorry, you ran out of attempts! The secret number is {secret_number}.\")\n",
    "\n",
    "if __name__ == \"__main__\":\n",
    "    print(\"Welcome to the Number Guessing Game!\")\n",
    "    play_game()"
   ]
  },
  {
   "cell_type": "code",
   "execution_count": null,
   "id": "3c23d706",
   "metadata": {},
   "outputs": [],
   "source": []
  }
 ],
 "metadata": {
  "kernelspec": {
   "display_name": "Python 3 (ipykernel)",
   "language": "python",
   "name": "python3"
  },
  "language_info": {
   "codemirror_mode": {
    "name": "ipython",
    "version": 3
   },
   "file_extension": ".py",
   "mimetype": "text/x-python",
   "name": "python",
   "nbconvert_exporter": "python",
   "pygments_lexer": "ipython3",
   "version": "3.11.5"
  }
 },
 "nbformat": 4,
 "nbformat_minor": 5
}
